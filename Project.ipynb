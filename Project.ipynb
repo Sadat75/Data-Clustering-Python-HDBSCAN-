{
 "cells": [
  {
   "cell_type": "code",
   "execution_count": null,
   "metadata": {},
   "outputs": [],
   "source": [
    "import matplotlib\n",
    "%matplotlib inline\n",
    "%config InlineBackend.figure_format = 'svg'\n",
    "import matplotlib.pyplot as plt\n",
    "plt.style.use('ggplot')\n",
    "\n",
    "import pandas as pd\n",
    "import numpy as np\n",
    "\n",
    "from tqdm import tqdm\n",
    "\n",
    "from sklearn.cluster import KMeans, DBSCAN\n",
    "from sklearn.metrics import silhouette_score\n",
    "from sklearn.datasets import make_blobs\n",
    "from sklearn.neighbors import KNeighborsClassifier\n",
    "\n",
    "from ipywidgets import interactive\n",
    "\n",
    "from collections import defaultdict\n",
    "\n",
    "import hdbscan\n",
    "import folium\n",
    "import re\n",
    "\n",
    "\n",
    "cols = ['#e6194b', '#3cb44b', '#ffe119', '#4363d8', '#f58231', '#911eb4',\n",
    "        '#46f0f0', '#f032e6', '#bcf60c', '#fabebe', '#008080', '#e6beff', \n",
    "        '#9a6324', '#fffac8', '#800000', '#aaffc3', '#808000', '#ffd8b1', \n",
    "        '#000075', '#808080']*10"
   ]
  },
  {
   "cell_type": "code",
   "execution_count": null,
   "metadata": {
    "ExecuteTime": {
     "end_time": "2019-08-26T15:10:31.177864Z",
     "start_time": "2019-08-26T15:10:31.164667Z"
    }
   },
   "outputs": [],
   "source": [
    "df = pd.read_csv('Data/taxi_data.csv')"
   ]
  },
  {
   "cell_type": "code",
   "execution_count": null,
   "metadata": {
    "ExecuteTime": {
     "end_time": "2019-08-26T15:10:31.688300Z",
     "start_time": "2019-08-26T15:10:31.673561Z"
    }
   },
   "outputs": [],
   "source": [
    "df.head()"
   ]
  },
  {
   "cell_type": "code",
   "execution_count": null,
   "metadata": {},
   "outputs": [],
   "source": [
    "df.duplicated(subset=['LON', 'LAT']).values.any()"
   ]
  },
  {
   "cell_type": "code",
   "execution_count": null,
   "metadata": {},
   "outputs": [],
   "source": [
    "df.isna().values.any()"
   ]
  },
  {
   "cell_type": "code",
   "execution_count": null,
   "metadata": {},
   "outputs": [],
   "source": [
    "print(f'Before dropping NaNs and dupes\\t:\\tdf.shape = {df.shape}')\n",
    "df.dropna(inplace = True)\n",
    "df.drop_duplicates(subset =['LON', 'LAT'], keep = 'first', inplace = True)\n",
    "print(f'After dropping NaNs and dupes\\t:\\tdf.shape = {df.shape}')"
   ]
  },
  {
   "cell_type": "code",
   "execution_count": null,
   "metadata": {},
   "outputs": [],
   "source": [
    "X = np.array(df[['LON', 'LAT']], dtype = 'float64')"
   ]
  },
  {
   "cell_type": "code",
   "execution_count": null,
   "metadata": {},
   "outputs": [],
   "source": [
    "plt.scatter(X[:,0], X[:,1],alpha = 0.2,s=50)"
   ]
  },
  {
   "cell_type": "code",
   "execution_count": null,
   "metadata": {},
   "outputs": [],
   "source": []
  },
  {
   "cell_type": "code",
   "execution_count": null,
   "metadata": {},
   "outputs": [],
   "source": [
    "m = folium.Map(location = [df.LAT.mean(), df.LON.mean()],zoom_start = 9, tiles = 'Stamen toner')\n",
    "\n",
    "for _, row in df.iterrows():\n",
    "    folium.CircleMarker(\n",
    "        location = [row.LAT, row.LON],\n",
    "        radius = 5,\n",
    "        popup = re.sub(r'[^a-zA-Z ]+','', row.NAME),\n",
    "        color = '#1787FE',\n",
    "        fill = True,\n",
    "        fill_color = '#1787FE' \n",
    "    ).add_to(m)"
   ]
  },
  {
   "cell_type": "code",
   "execution_count": null,
   "metadata": {
    "ExecuteTime": {
     "end_time": "2019-08-26T15:10:34.638124Z",
     "start_time": "2019-08-26T15:10:34.635069Z"
    }
   },
   "outputs": [],
   "source": [
    "m"
   ]
  },
  {
   "cell_type": "code",
   "execution_count": null,
   "metadata": {},
   "outputs": [],
   "source": [
    "X_blobs, _ = make_blobs(n_samples=1000, centers = 10, n_features=2, cluster_std=0.5, random_state=4)"
   ]
  },
  {
   "cell_type": "code",
   "execution_count": null,
   "metadata": {},
   "outputs": [],
   "source": [
    "class_predictions = np.load('Data/sample_clusters.npy')"
   ]
  },
  {
   "cell_type": "code",
   "execution_count": null,
   "metadata": {},
   "outputs": [],
   "source": [
    "unique_clusters = np.unique(class_predictions)"
   ]
  },
  {
   "cell_type": "code",
   "execution_count": null,
   "metadata": {},
   "outputs": [],
   "source": [
    "for unique_cluster in unique_clusters:\n",
    "    X = X_blobs[class_predictions == unique_cluster]\n",
    "    plt.scatter(X[:,0],X[:,1], alpha = 0.2, c = cols[unique_cluster])\n",
    "silhouette_score(X_blobs, class_predictions)"
   ]
  },
  {
   "cell_type": "code",
   "execution_count": null,
   "metadata": {},
   "outputs": [],
   "source": [
    "class_predictions = np.load('Data/sample_clusters_improved.npy')"
   ]
  },
  {
   "cell_type": "code",
   "execution_count": null,
   "metadata": {},
   "outputs": [],
   "source": [
    "unique_clusters = np.unique(class_predictions)"
   ]
  },
  {
   "cell_type": "code",
   "execution_count": null,
   "metadata": {},
   "outputs": [],
   "source": [
    "for unique_cluster in unique_clusters:\n",
    "    X = X_blobs[class_predictions == unique_cluster]\n",
    "    plt.scatter(X[:,0],X[:,1], alpha = 0.2, c = cols[unique_cluster])\n",
    "silhouette_score(X_blobs, class_predictions)"
   ]
  },
  {
   "cell_type": "code",
   "execution_count": null,
   "metadata": {},
   "outputs": [],
   "source": [
    "X_blobs, _ = make_blobs(n_samples=1000, centers=50, \n",
    "                        n_features=2, cluster_std=1, random_state=4)"
   ]
  },
  {
   "cell_type": "code",
   "execution_count": null,
   "metadata": {},
   "outputs": [],
   "source": [
    "data = defaultdict(dict)\n",
    "for x in range(1,21):\n",
    "    model = KMeans(n_clusters=3, random_state=17, \n",
    "                   max_iter=x, n_init=1).fit(X_blobs)\n",
    "    \n",
    "    data[x]['class_predictions'] = model.predict(X_blobs)\n",
    "    data[x]['centroids'] = model.cluster_centers_\n",
    "    data[x]['unique_classes'] = np.unique(class_predictions)"
   ]
  },
  {
   "cell_type": "code",
   "execution_count": null,
   "metadata": {},
   "outputs": [],
   "source": [
    "def f(x):\n",
    "    class_predictions = data[x]['class_predictions']\n",
    "    centroids = data[x]['centroids']\n",
    "    unique_classes = data[x]['unique_classes']\n",
    "\n",
    "    for unique_class in unique_classes:\n",
    "            plt.scatter(X_blobs[class_predictions==unique_class][:,0], \n",
    "                        X_blobs[class_predictions==unique_class][:,1], \n",
    "                        alpha=0.3, c=cols[unique_class])\n",
    "    plt.scatter(centroids[:,0], centroids[:,1], s=200, c='#000000', marker='v')\n",
    "    plt.ylim([-15,15]); plt.xlim([-15,15])\n",
    "    plt.title('How K-Means Clusters')\n",
    "\n",
    "interactive_plot = interactive(f, x=(1, 20))\n",
    "output = interactive_plot.children[-1]\n",
    "output.layout.height = '350px'\n",
    "interactive_plot"
   ]
  },
  {
   "cell_type": "code",
   "execution_count": null,
   "metadata": {},
   "outputs": [],
   "source": [
    "X = np.array(df[['LON','LAT']] , dtype ='float64')\n",
    "k = 70\n",
    "model = KMeans(n_clusters = k, random_state=17).fit(X)\n",
    "class_predictions = model.predict(X)\n",
    "df[f'CLUSTER_kmeans{k}'] = class_predictions"
   ]
  },
  {
   "cell_type": "code",
   "execution_count": null,
   "metadata": {},
   "outputs": [],
   "source": [
    "df.head()"
   ]
  },
  {
   "cell_type": "code",
   "execution_count": null,
   "metadata": {},
   "outputs": [],
   "source": [
    "def create_map (df, cluster_column):\n",
    "    m = folium.Map(location=[df.LAT.mean(), df.LON.mean()], zoom_start=9, tiles='Stamen Toner')\n",
    "\n",
    "    for _, row in df.iterrows():\n",
    "\n",
    "        # get a colour\n",
    "        if row[cluster_column] == -1:\n",
    "            cluster_colour = '#000000'\n",
    "        else:\n",
    "            cluster_colour = cols[row[cluster_column]]\n",
    "\n",
    "        folium.CircleMarker(\n",
    "            location= [row['LAT'], row['LON']],\n",
    "            radius=5,\n",
    "            popup= row[cluster_column],\n",
    "            color=cluster_colour,\n",
    "            fill=True,\n",
    "            fill_color=cluster_colour\n",
    "        ).add_to(m)\n",
    "    return m\n",
    "\n",
    "m = create_map(df, 'CLUSTER_kmeans70')\n",
    "print(f'K={k}')\n",
    "print(f'Silhouette Score: {silhouette_score(X, class_predictions)}')\n",
    "\n",
    "m.save('kmeans_70.html')"
   ]
  },
  {
   "cell_type": "code",
   "execution_count": null,
   "metadata": {},
   "outputs": [],
   "source": [
    "best_silhouette, best_k = -1, 0\n",
    "\n",
    "for k in tqdm(range(2, 100)):\n",
    "    model = KMeans(n_clusters=k, random_state=1).fit(X)\n",
    "    class_predictions = model.predict(X)\n",
    "    \n",
    "    curr_silhouette = silhouette_score(X, class_predictions)\n",
    "    if curr_silhouette > best_silhouette:\n",
    "        best_k = k\n",
    "        best_silhouette = curr_silhouette\n",
    "        \n",
    "print(f'K={best_k}')\n",
    "print(f'Silhouette Score: {best_silhouette}') "
   ]
  },
  {
   "cell_type": "code",
   "execution_count": null,
   "metadata": {},
   "outputs": [],
   "source": [
    "# code for changing out repeated values\n",
    "dummy = np.array([-1, -1, -1, 2, 3, 4, 5, -1])\n",
    "new = np.array([(counter+2)*x if x == -1 else x for counter,x in enumerate(dummy)])"
   ]
  },
  {
   "cell_type": "code",
   "execution_count": null,
   "metadata": {},
   "outputs": [],
   "source": [
    "# performing DBSCAN\n",
    "\n",
    "model = DBSCAN(eps = 0.01, min_samples=5).fit(X)\n",
    "class_predictions = model.labels_\n",
    "df['CLUSTERS_DBSCAN'] = class_predictions"
   ]
  },
  {
   "cell_type": "code",
   "execution_count": null,
   "metadata": {},
   "outputs": [],
   "source": [
    "m = create_map(df, 'CLUSTERS_DBSCAN')\n",
    "\n",
    "print(f'Number of clusters found: {len(np.unique(class_predictions))}')\n",
    "print(f'Number of outliers found: {len(class_predictions[class_predictions==-1])}')\n",
    "\n",
    "print(f'Silhouette ignoring outliers: {silhouette_score(X[class_predictions!=-1], class_predictions[class_predictions!=-1])}')\n",
    "\n",
    "no_outliers = 0\n",
    "no_outliers = np.array([(counter+2)*x if x==-1 else x for counter, x in enumerate(class_predictions)])\n",
    "print(f'Silhouette outliers as singletons: {silhouette_score(X, no_outliers)}')"
   ]
  },
  {
   "cell_type": "code",
   "execution_count": null,
   "metadata": {},
   "outputs": [],
   "source": [
    "m"
   ]
  },
  {
   "cell_type": "code",
   "execution_count": null,
   "metadata": {},
   "outputs": [],
   "source": [
    "model = hdbscan.HDBSCAN(min_cluster_size=5, min_samples=2, cluster_selection_epsilon=0.01)\n",
    "class_predictions = model.fit_predict(X)\n",
    "df['CLUSTERS_HDBSCAN'] = class_predictions \n"
   ]
  },
  {
   "cell_type": "code",
   "execution_count": null,
   "metadata": {},
   "outputs": [],
   "source": [
    "m = create_map(df, 'CLUSTERS_HDBSCAN')\n",
    "print(f'Number of clusters found: {len(np.unique(class_predictions))-1}')\n",
    "print(f'Number of outliers found: {len(class_predictions[class_predictions==-1])}')\n",
    "\n",
    "print(f'Silhouette ignoring outliers: {silhouette_score(X[class_predictions!=-1], class_predictions[class_predictions!=-1])}')\n",
    "\n",
    "no_outliers = np.array([(counter+2)*x if x==-1 else x for counter, x in enumerate(class_predictions)])\n",
    "print(f'Silhouette outliers as singletons: {silhouette_score(X, no_outliers)}')\n",
    "\n",
    "m"
   ]
  },
  {
   "cell_type": "code",
   "execution_count": null,
   "metadata": {},
   "outputs": [],
   "source": [
    "classifier = KNeighborsClassifier(n_neighbors=1)"
   ]
  },
  {
   "cell_type": "code",
   "execution_count": null,
   "metadata": {},
   "outputs": [],
   "source": [
    "df_train = df[df.CLUSTERS_HDBSCAN!= -1]\n",
    "df_predict = df[df.CLUSTERS_HDBSCAN== -1]"
   ]
  },
  {
   "cell_type": "code",
   "execution_count": null,
   "metadata": {},
   "outputs": [],
   "source": [
    "X_train = np.array(df_train[['LON','LAT']], dtype = 'float64')\n",
    "y_train = np.array(df_train['CLUSTERS_HDBSCAN'])\n",
    "\n",
    "X_predict = np.array(df_predict[['LON','LAT']], dtype = 'float64')"
   ]
  },
  {
   "cell_type": "code",
   "execution_count": null,
   "metadata": {},
   "outputs": [],
   "source": [
    "classifier.fit(X_train, y_train)"
   ]
  },
  {
   "cell_type": "code",
   "execution_count": null,
   "metadata": {},
   "outputs": [],
   "source": [
    "predictions = classifier.predict(X_predict)"
   ]
  },
  {
   "cell_type": "code",
   "execution_count": null,
   "metadata": {},
   "outputs": [],
   "source": [
    "df['CLUSTERS_hybrid'] = df['CLUSTERS_HDBSCAN']\n"
   ]
  },
  {
   "cell_type": "code",
   "execution_count": null,
   "metadata": {},
   "outputs": [],
   "source": [
    "df.loc[df.CLUSTERS_HDBSCAN == -1, 'CLUSTERS_hybrid'] = predictions"
   ]
  },
  {
   "cell_type": "code",
   "execution_count": null,
   "metadata": {},
   "outputs": [],
   "source": [
    "m = create_map(df, 'CLUSTERS_hybrid')"
   ]
  },
  {
   "cell_type": "code",
   "execution_count": null,
   "metadata": {},
   "outputs": [],
   "source": [
    "df['CLUSTERS_hybrid'].value_counts().plot.hist(bins = 70, alpha = 0.4, label = 'Hybrid')\n",
    "df['CLUSTER_kmeans70'].value_counts().plot.hist(bins = 70, alpha = 0.4, label = 'K-Means (70)')\n",
    "plt.legend()\n",
    "plt.title('Comparing HDBSCAN and K-Means (70)')"
   ]
  },
  {
   "cell_type": "code",
   "execution_count": null,
   "metadata": {},
   "outputs": [],
   "source": [
    "\n",
    "print(f'Number of clusters found: {len(np.unique(class_predictions))}')\n",
    "print(f'Silhouette: {silhouette_score(X, class_predictions)}')\n",
    "\n",
    "m.save('hybrid.html')"
   ]
  }
 ],
 "metadata": {
  "kernelspec": {
   "display_name": "Python 3",
   "language": "python",
   "name": "python3"
  },
  "language_info": {
   "codemirror_mode": {
    "name": "ipython",
    "version": 3
   },
   "file_extension": ".py",
   "mimetype": "text/x-python",
   "name": "python",
   "nbconvert_exporter": "python",
   "pygments_lexer": "ipython3",
   "version": "3.8.5"
  }
 },
 "nbformat": 4,
 "nbformat_minor": 4
}
